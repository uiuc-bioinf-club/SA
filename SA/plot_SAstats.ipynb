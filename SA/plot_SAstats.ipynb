{
 "cells": [
  {
   "cell_type": "code",
   "execution_count": 5,
   "metadata": {},
   "outputs": [],
   "source": [
    "from __future__ import  division, print_function\n",
    "import numpy as np\n",
    "import pandas as pd\n",
    "import pickle\n",
    "import gzip\n",
    "from collections import OrderedDict\n",
    "\n",
    "import matplotlib.pyplot as plt\n",
    "%matplotlib inline"
   ]
  },
  {
   "cell_type": "code",
   "execution_count": 7,
   "metadata": {},
   "outputs": [],
   "source": [
    "class SAresults(object):\n",
    "    def __init__(self, fn_list, d,idx_to_T = None, nKeep = 20000,\n",
    "                keys_keep = [\"samples\"]  ):\n",
    "        \"\"\"\n",
    "        Inputs\n",
    "        --------\n",
    "            fn_list - list of file names, each is gziped pickle of a dictonray with dictionary.keys() = [idx]\n",
    "                        where idx is the index at which samples were collected\n",
    "            d - parameter in T = d / log(idx + 2) used for calculating temperature\n",
    "            idx_to_T - function taking idx , d as input and returning Temp\n",
    "        Returns\n",
    "        --------\n",
    "            data_return - OrderedDict  [ (T , {\"singleNTfreq\": arr,  \"accFrac\": float , \"objective_best\": float}) ]\n",
    "        \"\"\"\n",
    "        if idx_to_T is None:\n",
    "            idx_to_T = lambda idx,d: d / np.log( idx + 2)\n",
    "        self.data = OrderedDict([])\n",
    "        for fn in fn_list:\n",
    "            print(\"loading {}\".format(fn))\n",
    "            f = gzip.open(fn , 'rb')\n",
    "            data_tmp = pickle.load(f)\n",
    "            f.close()\n",
    "            assert len(data_tmp.keys()) == 1\n",
    "            idx = list(data_tmp.keys())[0]\n",
    "            T = idx_to_T( idx, d )\n",
    "            if \"singleNTfreq\" in keys_keep:\n",
    "                data_tmp[idx][\"singleNTfreq\"] = data_tmp[idx][\"samples\"][-1*nKeep:,:,0:4].mean(axis = 0).squeeze()\n",
    "            if \"samples\" in  keys_keep:\n",
    "                data_tmp[idx][\"samples\"] = data_tmp[idx][\"samples\"][-1*nKeep:,:,0:4].squeeze()\n",
    "            self.data[\"{:.4e}\".format(T)] = { k : data_tmp[idx][k] for k in keys_keep }\n",
    "        \n",
    "    def get_data(self ):\n",
    "        return self.data\n",
    "        "
   ]
  },
  {
   "cell_type": "code",
   "execution_count": 9,
   "metadata": {},
   "outputs": [
    {
     "name": "stdout",
     "output_type": "stream",
     "text": [
      "loading ../../interpret/MCMC/SA/scan_T0/3B13L-d1_max_d.0.30_samples_iter.30M.pkl_0.pklz\n",
      "loading ../../interpret/MCMC/SA/scan_T0/3B13L-d1_max_d.0.30_samples_iter.30M.pkl_1.0e+07.pklz\n",
      "loading ../../interpret/MCMC/SA/scan_T0/3B13L-d1_max_d.0.30_samples_iter.30M.pkl_1.2e+07.pklz\n",
      "loading ../../interpret/MCMC/SA/scan_T0/3B13L-d1_max_d.0.30_samples_iter.30M.pkl_1.4e+07.pklz\n",
      "loading ../../interpret/MCMC/SA/scan_T0/3B13L-d1_max_d.0.30_samples_iter.30M.pkl_1.6e+07.pklz\n",
      "loading ../../interpret/MCMC/SA/scan_T0/3B13L-d1_max_d.0.30_samples_iter.30M.pkl_1.8e+07.pklz\n",
      "loading ../../interpret/MCMC/SA/scan_T0/3B13L-d1_max_d.0.30_samples_iter.30M.pkl_2.0e+06.pklz\n",
      "loading ../../interpret/MCMC/SA/scan_T0/3B13L-d1_max_d.0.30_samples_iter.30M.pkl_2.0e+07.pklz\n",
      "loading ../../interpret/MCMC/SA/scan_T0/3B13L-d1_max_d.0.30_samples_iter.30M.pkl_2.2e+07.pklz\n",
      "loading ../../interpret/MCMC/SA/scan_T0/3B13L-d1_max_d.0.30_samples_iter.30M.pkl_2.4e+07.pklz\n",
      "loading ../../interpret/MCMC/SA/scan_T0/3B13L-d1_max_d.0.30_samples_iter.30M.pkl_2.6e+07.pklz\n",
      "loading ../../interpret/MCMC/SA/scan_T0/3B13L-d1_max_d.0.30_samples_iter.30M.pkl_2.8e+07.pklz\n",
      "loading ../../interpret/MCMC/SA/scan_T0/3B13L-d1_max_d.0.30_samples_iter.30M.pkl_3.0e+07.pklz\n",
      "loading ../../interpret/MCMC/SA/scan_T0/3B13L-d1_max_d.0.30_samples_iter.30M.pkl_4.0e+06.pklz\n",
      "loading ../../interpret/MCMC/SA/scan_T0/3B13L-d1_max_d.0.30_samples_iter.30M.pkl_6.0e+06.pklz\n",
      "loading ../../interpret/MCMC/SA/scan_T0/3B13L-d1_max_d.0.30_samples_iter.30M.pkl_8.0e+06.pklz\n"
     ]
    }
   ],
   "source": [
    "fn_list = [ \"../../interpret/MCMC/SA/scan_T0/3B13L-d1_max_d.0.30_samples_iter.30M.pkl_0.pklz\",\n",
    "\"../../interpret/MCMC/SA/scan_T0/3B13L-d1_max_d.0.30_samples_iter.30M.pkl_1.0e+07.pklz\",\n",
    "\"../../interpret/MCMC/SA/scan_T0/3B13L-d1_max_d.0.30_samples_iter.30M.pkl_1.2e+07.pklz\",\n",
    "\"../../interpret/MCMC/SA/scan_T0/3B13L-d1_max_d.0.30_samples_iter.30M.pkl_1.4e+07.pklz\",\n",
    "\"../../interpret/MCMC/SA/scan_T0/3B13L-d1_max_d.0.30_samples_iter.30M.pkl_1.6e+07.pklz\",\n",
    "\"../../interpret/MCMC/SA/scan_T0/3B13L-d1_max_d.0.30_samples_iter.30M.pkl_1.8e+07.pklz\",\n",
    "\"../../interpret/MCMC/SA/scan_T0/3B13L-d1_max_d.0.30_samples_iter.30M.pkl_2.0e+06.pklz\",\n",
    "\"../../interpret/MCMC/SA/scan_T0/3B13L-d1_max_d.0.30_samples_iter.30M.pkl_2.0e+07.pklz\",\n",
    "\"../../interpret/MCMC/SA/scan_T0/3B13L-d1_max_d.0.30_samples_iter.30M.pkl_2.2e+07.pklz\",\n",
    "\"../../interpret/MCMC/SA/scan_T0/3B13L-d1_max_d.0.30_samples_iter.30M.pkl_2.4e+07.pklz\",\n",
    "\"../../interpret/MCMC/SA/scan_T0/3B13L-d1_max_d.0.30_samples_iter.30M.pkl_2.6e+07.pklz\",\n",
    "\"../../interpret/MCMC/SA/scan_T0/3B13L-d1_max_d.0.30_samples_iter.30M.pkl_2.8e+07.pklz\",\n",
    "\"../../interpret/MCMC/SA/scan_T0/3B13L-d1_max_d.0.30_samples_iter.30M.pkl_3.0e+07.pklz\",\n",
    "\"../../interpret/MCMC/SA/scan_T0/3B13L-d1_max_d.0.30_samples_iter.30M.pkl_4.0e+06.pklz\",\n",
    "\"../../interpret/MCMC/SA/scan_T0/3B13L-d1_max_d.0.30_samples_iter.30M.pkl_6.0e+06.pklz\",\n",
    "\"../../interpret/MCMC/SA/scan_T0/3B13L-d1_max_d.0.30_samples_iter.30M.pkl_8.0e+06.pklz\",]\n",
    "d = 0.3\n",
    "\n",
    "saResult = SAresults( fn_list, d,idx_to_T = None, nKeep = 20000,\n",
    "                keys_keep = [\"singleNTfreq\", \"accFrac\",  ]  )"
   ]
  },
  {
   "cell_type": "code",
   "execution_count": 10,
   "metadata": {},
   "outputs": [],
   "source": [
    "data = saResult.get_data()"
   ]
  },
  {
   "cell_type": "code",
   "execution_count": null,
   "metadata": {},
   "outputs": [],
   "source": []
  }
 ],
 "metadata": {
  "kernelspec": {
   "display_name": "Python 3",
   "language": "python",
   "name": "python3"
  },
  "language_info": {
   "codemirror_mode": {
    "name": "ipython",
    "version": 3
   },
   "file_extension": ".py",
   "mimetype": "text/x-python",
   "name": "python",
   "nbconvert_exporter": "python",
   "pygments_lexer": "ipython3",
   "version": "3.6.1"
  }
 },
 "nbformat": 4,
 "nbformat_minor": 2
}
